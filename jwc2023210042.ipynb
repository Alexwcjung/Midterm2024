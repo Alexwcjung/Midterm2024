{
  "nbformat": 4,
  "nbformat_minor": 0,
  "metadata": {
    "colab": {
      "provenance": [],
      "name": "jwc2023210042.ipynb",
      "authorship_tag": "ABX9TyMfJVmch/gPQw+eHXPtVg1/",
      "include_colab_link": true
    },
    "kernelspec": {
      "name": "python3",
      "display_name": "Python 3"
    },
    "language_info": {
      "name": "python"
    }
  },
  "cells": [
    {
      "cell_type": "markdown",
      "metadata": {
        "id": "view-in-github",
        "colab_type": "text"
      },
      "source": [
        "<a href=\"https://colab.research.google.com/github/Alexwcjung/midterm24/blob/main/jwc2023210042.ipynb\" target=\"_parent\"><img src=\"https://colab.research.google.com/assets/colab-badge.svg\" alt=\"Open In Colab\"/></a>"
      ]
    },
    {
      "cell_type": "markdown",
      "source": [
        "#  🌀Midterm 2024: 정우창 (2023210042)"
      ],
      "metadata": {
        "id": "WfthXf8Cvyn3"
      }
    },
    {
      "cell_type": "markdown",
      "source": [
        "## Name Question"
      ],
      "metadata": {
        "id": "PeLNa37hwM8U"
      }
    },
    {
      "cell_type": "code",
      "source": [
        "# Name question\n",
        "x = \"My name is\"\n",
        "y = \"woochang Jung.\"\n",
        "print(x, y)\n"
      ],
      "metadata": {
        "colab": {
          "base_uri": "https://localhost:8080/"
        },
        "id": "Wsk_PUd5wf0h",
        "outputId": "a1d25761-342a-482c-fe69-f67bc6942779"
      },
      "execution_count": null,
      "outputs": [
        {
          "output_type": "stream",
          "name": "stdout",
          "text": [
            "My name is woochang Jung.\n"
          ]
        }
      ]
    },
    {
      "cell_type": "code",
      "source": [
        "## Variable Question\n",
        "# 'Mary, 1998, Ohio; and John, 1999, Boston'\n",
        "x = input('Name: ')\n",
        "y = input('born in: ')\n",
        "z = input('hometown: ')\n",
        "print(f\"Hello, my name is {x}, I was born in {y}, and I'm from {z}, Nice to meet you\")"
      ],
      "metadata": {
        "colab": {
          "base_uri": "https://localhost:8080/"
        },
        "id": "8CftHWTNyETn",
        "outputId": "bf82783f-dc3b-4b40-bb26-cd8d9101a01c"
      },
      "execution_count": null,
      "outputs": [
        {
          "output_type": "stream",
          "name": "stdout",
          "text": [
            "Name: Mary\n",
            "born in: 1998\n",
            "hometown: Ohio\n",
            "Hello, my name is Mary, I was born in 1998, and I'm from Ohio, Nice to meet you\n"
          ]
        }
      ]
    },
    {
      "cell_type": "code",
      "source": [
        "## Index Question\n",
        "# Dropdown\n",
        "\n",
        "cardinal_number = \"1\" #@param = [\"1\",\"2\",\"3\",\"4\"]\n",
        "\n",
        "# Add one line of code below\n",
        "cardinal_number = int(cardinal_number) -1\n",
        "\n",
        "# Ordinal expression as a list\n",
        "\n",
        "words = [\"First\", \"Second\", \"Third\",\"Fourth\"]\n",
        "\n",
        "print(\"The ordinal expression:\", words[cardinal_number])"
      ],
      "metadata": {
        "colab": {
          "base_uri": "https://localhost:8080/"
        },
        "id": "gtFjgu_u09c_",
        "outputId": "79075170-a592-4423-a504-bc06f1f5578f"
      },
      "execution_count": null,
      "outputs": [
        {
          "output_type": "stream",
          "name": "stdout",
          "text": [
            "The ordinal expression: First\n"
          ]
        }
      ]
    },
    {
      "cell_type": "markdown",
      "source": [
        "## GTTS Question"
      ],
      "metadata": {
        "id": "V_Yq8Qbx2bFq"
      }
    },
    {
      "cell_type": "code",
      "source": [
        "# First, install the gTTS library if you haven't already\n",
        "!pip install gTTS\n",
        "\n",
        "# Import the gTTS library\n",
        "from gtts import gTTS\n",
        "\n",
        "# Import IPython display module\n",
        "from IPython.display import Audio, display"
      ],
      "metadata": {
        "colab": {
          "base_uri": "https://localhost:8080/"
        },
        "id": "8lfgjD1w2mxe",
        "outputId": "21a3aff2-4b23-4c5d-e3f5-2e2af788a1e7"
      },
      "execution_count": null,
      "outputs": [
        {
          "output_type": "stream",
          "name": "stdout",
          "text": [
            "Collecting gTTS\n",
            "  Downloading gTTS-2.5.3-py3-none-any.whl.metadata (4.1 kB)\n",
            "Requirement already satisfied: requests<3,>=2.27 in /usr/local/lib/python3.10/dist-packages (from gTTS) (2.32.3)\n",
            "Requirement already satisfied: click<8.2,>=7.1 in /usr/local/lib/python3.10/dist-packages (from gTTS) (8.1.7)\n",
            "Requirement already satisfied: charset-normalizer<4,>=2 in /usr/local/lib/python3.10/dist-packages (from requests<3,>=2.27->gTTS) (3.3.2)\n",
            "Requirement already satisfied: idna<4,>=2.5 in /usr/local/lib/python3.10/dist-packages (from requests<3,>=2.27->gTTS) (3.10)\n",
            "Requirement already satisfied: urllib3<3,>=1.21.1 in /usr/local/lib/python3.10/dist-packages (from requests<3,>=2.27->gTTS) (2.2.3)\n",
            "Requirement already satisfied: certifi>=2017.4.17 in /usr/local/lib/python3.10/dist-packages (from requests<3,>=2.27->gTTS) (2024.8.30)\n",
            "Downloading gTTS-2.5.3-py3-none-any.whl (29 kB)\n",
            "Installing collected packages: gTTS\n",
            "Successfully installed gTTS-2.5.3\n"
          ]
        }
      ]
    },
    {
      "cell_type": "code",
      "source": [
        "# Text to be converted to speech\n",
        "text = input('text : ')\n",
        "\n",
        "# Language in which you want to convert\n",
        "language = 'en'\n",
        "\n",
        "# Pass the text and language to the gTTS module\n",
        "speech = gTTS(text = text, lang = language, slow = False)\n",
        "\n",
        "# Save the converted audio file\n",
        "speech.save(\"output.mp3\")\n",
        "\n",
        "# Display the audio directly in the notebook\n",
        "display(Audio(\"output.mp3\", autoplay=True))"
      ],
      "metadata": {
        "colab": {
          "base_uri": "https://localhost:8080/",
          "height": 92
        },
        "id": "ff2QtkYc2yTS",
        "outputId": "15b89da5-38bb-47a0-cabc-c3d12705217b"
      },
      "execution_count": null,
      "outputs": [
        {
          "name": "stdout",
          "output_type": "stream",
          "text": [
            "text : I have succeeded in this task\n"
          ]
        },
        {
          "output_type": "display_data",
          "data": {
            "text/plain": [
              "<IPython.lib.display.Audio object>"
            ],
            "text/html": [
              "\n",
              "                <audio  controls=\"controls\" autoplay=\"autoplay\">\n",
              "                    <source src=\"data:audio/mpeg;base64,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\" type=\"audio/mpeg\" />\n",
              "                    Your browser does not support the audio element.\n",
              "                </audio>\n",
              "              "
            ]
          },
          "metadata": {}
        }
      ]
    },
    {
      "cell_type": "markdown",
      "source": [
        "## Function Question"
      ],
      "metadata": {
        "id": "otmug8WE3HWs"
      }
    },
    {
      "cell_type": "code",
      "source": [
        "# Define a function for multiplication\n",
        "def devide(x, y):\n",
        "    return x / y\n",
        "\n",
        "# Test the function\n",
        "result = devide(20, 4)\n",
        "print(\"The result of division is:\", result)"
      ],
      "metadata": {
        "colab": {
          "base_uri": "https://localhost:8080/"
        },
        "id": "F4rZrTCE3I2c",
        "outputId": "1b29c8aa-a3f4-46c9-af60-a9d836d8cf0b"
      },
      "execution_count": null,
      "outputs": [
        {
          "output_type": "stream",
          "name": "stdout",
          "text": [
            "The result of division is: 5.0\n"
          ]
        }
      ]
    },
    {
      "cell_type": "markdown",
      "source": [
        "## Dictionary Question"
      ],
      "metadata": {
        "id": "cx9oWIya4WIC"
      }
    },
    {
      "cell_type": "code",
      "source": [
        "# An example of a dictionary\n",
        "student_grades = {\"Alice\": 90, \"Bob\": 85, \"Charlie\": 95}\n",
        "# print(\"Student Grades:\", student_grades)"
      ],
      "metadata": {
        "id": "K3zAKSiw4YDV"
      },
      "execution_count": null,
      "outputs": []
    },
    {
      "cell_type": "code",
      "source": [
        "# Return Alice's grade\n",
        "student_grades['Bob']"
      ],
      "metadata": {
        "colab": {
          "base_uri": "https://localhost:8080/"
        },
        "id": "y-MQ92w35B3r",
        "outputId": "23c585df-b491-4d2b-aebc-9bbbebb36574"
      },
      "execution_count": null,
      "outputs": [
        {
          "output_type": "execute_result",
          "data": {
            "text/plain": [
              "85"
            ]
          },
          "metadata": {},
          "execution_count": 33
        }
      ]
    },
    {
      "cell_type": "markdown",
      "source": [
        "## Audio Question"
      ],
      "metadata": {
        "id": "he0Y1Owy5r1v"
      }
    },
    {
      "cell_type": "code",
      "source": [
        " # First, install the gTTS library if you haven't already\n",
        "!pip install gTTS\n",
        "\n",
        "# Import the gTTS library\n",
        "from gtts import gTTS\n",
        "\n",
        "# Import IPython display module\n",
        "from IPython.display import Audio, display"
      ],
      "metadata": {
        "colab": {
          "base_uri": "https://localhost:8080/"
        },
        "id": "BbB4AnKz5yxy",
        "outputId": "0380736c-6e95-41c4-dc20-4fdaa1825745"
      },
      "execution_count": null,
      "outputs": [
        {
          "output_type": "stream",
          "name": "stdout",
          "text": [
            "Requirement already satisfied: gTTS in /usr/local/lib/python3.10/dist-packages (2.5.3)\n",
            "Requirement already satisfied: requests<3,>=2.27 in /usr/local/lib/python3.10/dist-packages (from gTTS) (2.32.3)\n",
            "Requirement already satisfied: click<8.2,>=7.1 in /usr/local/lib/python3.10/dist-packages (from gTTS) (8.1.7)\n",
            "Requirement already satisfied: charset-normalizer<4,>=2 in /usr/local/lib/python3.10/dist-packages (from requests<3,>=2.27->gTTS) (3.3.2)\n",
            "Requirement already satisfied: idna<4,>=2.5 in /usr/local/lib/python3.10/dist-packages (from requests<3,>=2.27->gTTS) (3.10)\n",
            "Requirement already satisfied: urllib3<3,>=1.21.1 in /usr/local/lib/python3.10/dist-packages (from requests<3,>=2.27->gTTS) (2.2.3)\n",
            "Requirement already satisfied: certifi>=2017.4.17 in /usr/local/lib/python3.10/dist-packages (from requests<3,>=2.27->gTTS) (2024.8.30)\n"
          ]
        }
      ]
    },
    {
      "cell_type": "code",
      "source": [],
      "metadata": {
        "id": "AvRCMGiS6RgT"
      },
      "execution_count": null,
      "outputs": []
    },
    {
      "cell_type": "code",
      "source": [
        "!pip install gradio\n",
        "import gradio as gr\n",
        "from gtts import gTTS\n",
        "import os\n",
        "\n",
        "def text_to_speech(text, language):\n",
        "    lang_code = 'en' if language == \"English\" else 'ko'\n",
        "    tts = gTTS(text=text, lang=lang_code, slow=False)\n",
        "    tts.save(\"output.mp3\")\n",
        "    return \"output.mp3\"\n",
        "\n",
        "interface = gr.Interface(\n",
        "    fn=text_to_speech,\n",
        "    inputs=[\n",
        "        gr.Textbox(lines=3, label=\"Enter text\"),\n",
        "        gr.Radio(choices=[\"English\", \"Korean\"], label=\"Select language\")\n",
        "    ],\n",
        "    outputs=gr.Audio(type=\"filepath\", label=\"Audio\"),\n",
        "    title=\"Text-to-Speech\",\n",
        "    description=\"Type in some text, select a language, and generate audio.\",\n",
        ")\n",
        "\n",
        "interface.launch()\n"
      ],
      "metadata": {
        "colab": {
          "base_uri": "https://localhost:8080/",
          "height": 1000
        },
        "id": "6ULi28Wn6AHZ",
        "outputId": "59da44a4-7320-46c0-aa11-f128baefc81f"
      },
      "execution_count": null,
      "outputs": [
        {
          "output_type": "stream",
          "name": "stdout",
          "text": [
            "Requirement already satisfied: gradio in /usr/local/lib/python3.10/dist-packages (5.5.0)\n",
            "Requirement already satisfied: aiofiles<24.0,>=22.0 in /usr/local/lib/python3.10/dist-packages (from gradio) (23.2.1)\n",
            "Requirement already satisfied: anyio<5.0,>=3.0 in /usr/local/lib/python3.10/dist-packages (from gradio) (3.7.1)\n",
            "Requirement already satisfied: fastapi<1.0,>=0.115.2 in /usr/local/lib/python3.10/dist-packages (from gradio) (0.115.4)\n",
            "Requirement already satisfied: ffmpy in /usr/local/lib/python3.10/dist-packages (from gradio) (0.4.0)\n",
            "Requirement already satisfied: gradio-client==1.4.2 in /usr/local/lib/python3.10/dist-packages (from gradio) (1.4.2)\n",
            "Requirement already satisfied: httpx>=0.24.1 in /usr/local/lib/python3.10/dist-packages (from gradio) (0.27.2)\n",
            "Requirement already satisfied: huggingface-hub>=0.25.1 in /usr/local/lib/python3.10/dist-packages (from gradio) (0.26.2)\n",
            "Requirement already satisfied: jinja2<4.0 in /usr/local/lib/python3.10/dist-packages (from gradio) (3.1.4)\n",
            "Requirement already satisfied: markupsafe~=2.0 in /usr/local/lib/python3.10/dist-packages (from gradio) (2.1.5)\n",
            "Requirement already satisfied: numpy<3.0,>=1.0 in /usr/local/lib/python3.10/dist-packages (from gradio) (1.26.4)\n",
            "Requirement already satisfied: orjson~=3.0 in /usr/local/lib/python3.10/dist-packages (from gradio) (3.10.11)\n",
            "Requirement already satisfied: packaging in /usr/local/lib/python3.10/dist-packages (from gradio) (24.1)\n",
            "Requirement already satisfied: pandas<3.0,>=1.0 in /usr/local/lib/python3.10/dist-packages (from gradio) (2.1.4)\n",
            "Requirement already satisfied: pillow<12.0,>=8.0 in /usr/local/lib/python3.10/dist-packages (from gradio) (10.4.0)\n",
            "Requirement already satisfied: pydantic>=2.0 in /usr/local/lib/python3.10/dist-packages (from gradio) (2.9.2)\n",
            "Requirement already satisfied: pydub in /usr/local/lib/python3.10/dist-packages (from gradio) (0.25.1)\n",
            "Requirement already satisfied: python-multipart==0.0.12 in /usr/local/lib/python3.10/dist-packages (from gradio) (0.0.12)\n",
            "Requirement already satisfied: pyyaml<7.0,>=5.0 in /usr/local/lib/python3.10/dist-packages (from gradio) (6.0.2)\n",
            "Requirement already satisfied: ruff>=0.2.2 in /usr/local/lib/python3.10/dist-packages (from gradio) (0.7.3)\n",
            "Requirement already satisfied: safehttpx<1.0,>=0.1.1 in /usr/local/lib/python3.10/dist-packages (from gradio) (0.1.1)\n",
            "Requirement already satisfied: semantic-version~=2.0 in /usr/local/lib/python3.10/dist-packages (from gradio) (2.10.0)\n",
            "Requirement already satisfied: starlette<1.0,>=0.40.0 in /usr/local/lib/python3.10/dist-packages (from gradio) (0.41.2)\n",
            "Requirement already satisfied: tomlkit==0.12.0 in /usr/local/lib/python3.10/dist-packages (from gradio) (0.12.0)\n",
            "Requirement already satisfied: typer<1.0,>=0.12 in /usr/local/lib/python3.10/dist-packages (from gradio) (0.12.5)\n",
            "Requirement already satisfied: typing-extensions~=4.0 in /usr/local/lib/python3.10/dist-packages (from gradio) (4.12.2)\n",
            "Requirement already satisfied: uvicorn>=0.14.0 in /usr/local/lib/python3.10/dist-packages (from gradio) (0.32.0)\n",
            "Requirement already satisfied: fsspec in /usr/local/lib/python3.10/dist-packages (from gradio-client==1.4.2->gradio) (2024.6.1)\n",
            "Requirement already satisfied: websockets<13.0,>=10.0 in /usr/local/lib/python3.10/dist-packages (from gradio-client==1.4.2->gradio) (12.0)\n",
            "Requirement already satisfied: idna>=2.8 in /usr/local/lib/python3.10/dist-packages (from anyio<5.0,>=3.0->gradio) (3.10)\n",
            "Requirement already satisfied: sniffio>=1.1 in /usr/local/lib/python3.10/dist-packages (from anyio<5.0,>=3.0->gradio) (1.3.1)\n",
            "Requirement already satisfied: exceptiongroup in /usr/local/lib/python3.10/dist-packages (from anyio<5.0,>=3.0->gradio) (1.2.2)\n",
            "Requirement already satisfied: certifi in /usr/local/lib/python3.10/dist-packages (from httpx>=0.24.1->gradio) (2024.8.30)\n",
            "Requirement already satisfied: httpcore==1.* in /usr/local/lib/python3.10/dist-packages (from httpx>=0.24.1->gradio) (1.0.6)\n",
            "Requirement already satisfied: h11<0.15,>=0.13 in /usr/local/lib/python3.10/dist-packages (from httpcore==1.*->httpx>=0.24.1->gradio) (0.14.0)\n",
            "Requirement already satisfied: filelock in /usr/local/lib/python3.10/dist-packages (from huggingface-hub>=0.25.1->gradio) (3.16.1)\n",
            "Requirement already satisfied: requests in /usr/local/lib/python3.10/dist-packages (from huggingface-hub>=0.25.1->gradio) (2.32.3)\n",
            "Requirement already satisfied: tqdm>=4.42.1 in /usr/local/lib/python3.10/dist-packages (from huggingface-hub>=0.25.1->gradio) (4.66.5)\n",
            "Requirement already satisfied: python-dateutil>=2.8.2 in /usr/local/lib/python3.10/dist-packages (from pandas<3.0,>=1.0->gradio) (2.8.2)\n",
            "Requirement already satisfied: pytz>=2020.1 in /usr/local/lib/python3.10/dist-packages (from pandas<3.0,>=1.0->gradio) (2024.2)\n",
            "Requirement already satisfied: tzdata>=2022.1 in /usr/local/lib/python3.10/dist-packages (from pandas<3.0,>=1.0->gradio) (2024.1)\n",
            "Requirement already satisfied: annotated-types>=0.6.0 in /usr/local/lib/python3.10/dist-packages (from pydantic>=2.0->gradio) (0.7.0)\n",
            "Requirement already satisfied: pydantic-core==2.23.4 in /usr/local/lib/python3.10/dist-packages (from pydantic>=2.0->gradio) (2.23.4)\n",
            "Requirement already satisfied: click>=8.0.0 in /usr/local/lib/python3.10/dist-packages (from typer<1.0,>=0.12->gradio) (8.1.7)\n",
            "Requirement already satisfied: shellingham>=1.3.0 in /usr/local/lib/python3.10/dist-packages (from typer<1.0,>=0.12->gradio) (1.5.4)\n",
            "Requirement already satisfied: rich>=10.11.0 in /usr/local/lib/python3.10/dist-packages (from typer<1.0,>=0.12->gradio) (13.8.1)\n",
            "Requirement already satisfied: six>=1.5 in /usr/local/lib/python3.10/dist-packages (from python-dateutil>=2.8.2->pandas<3.0,>=1.0->gradio) (1.16.0)\n",
            "Requirement already satisfied: markdown-it-py>=2.2.0 in /usr/local/lib/python3.10/dist-packages (from rich>=10.11.0->typer<1.0,>=0.12->gradio) (3.0.0)\n",
            "Requirement already satisfied: pygments<3.0.0,>=2.13.0 in /usr/local/lib/python3.10/dist-packages (from rich>=10.11.0->typer<1.0,>=0.12->gradio) (2.18.0)\n",
            "Requirement already satisfied: charset-normalizer<4,>=2 in /usr/local/lib/python3.10/dist-packages (from requests->huggingface-hub>=0.25.1->gradio) (3.3.2)\n",
            "Requirement already satisfied: urllib3<3,>=1.21.1 in /usr/local/lib/python3.10/dist-packages (from requests->huggingface-hub>=0.25.1->gradio) (2.2.3)\n",
            "Requirement already satisfied: mdurl~=0.1 in /usr/local/lib/python3.10/dist-packages (from markdown-it-py>=2.2.0->rich>=10.11.0->typer<1.0,>=0.12->gradio) (0.1.2)\n",
            "Running Gradio in a Colab notebook requires sharing enabled. Automatically setting `share=True` (you can turn this off by setting `share=False` in `launch()` explicitly).\n",
            "\n",
            "Colab notebook detected. To show errors in colab notebook, set debug=True in launch()\n",
            "* Running on public URL: https://1ff96e2f9c515edd72.gradio.live\n",
            "\n",
            "This share link expires in 72 hours. For free permanent hosting and GPU upgrades, run `gradio deploy` from the terminal in the working directory to deploy to Hugging Face Spaces (https://huggingface.co/spaces)\n"
          ]
        },
        {
          "output_type": "display_data",
          "data": {
            "text/plain": [
              "<IPython.core.display.HTML object>"
            ],
            "text/html": [
              "<div><iframe src=\"https://1ff96e2f9c515edd72.gradio.live\" width=\"100%\" height=\"500\" allow=\"autoplay; camera; microphone; clipboard-read; clipboard-write;\" frameborder=\"0\" allowfullscreen></iframe></div>"
            ]
          },
          "metadata": {}
        },
        {
          "output_type": "execute_result",
          "data": {
            "text/plain": []
          },
          "metadata": {},
          "execution_count": 39
        }
      ]
    },
    {
      "cell_type": "markdown",
      "source": [
        "##Countdown Question"
      ],
      "metadata": {
        "id": "vmPAvVMj7Kk_"
      }
    },
    {
      "cell_type": "code",
      "source": [
        "import gradio as gr\n",
        "from datetime import datetime\n",
        "\n",
        "def countdown(target_date):\n",
        "    try:\n",
        "        # Parse the user input date\n",
        "        date_format = \"%Y-%m-%d\"\n",
        "        future_date = datetime.strptime(target_date, date_format)\n",
        "\n",
        "        # Get the current time\n",
        "        now = datetime.now()\n",
        "\n",
        "        # Calculate the difference between the future date and the current time\n",
        "        countdown = future_date - now\n",
        "\n",
        "        # Generate the countdown message\n",
        "        if countdown.days >= 0:\n",
        "            return f\"Time until {target_date}: \\n {countdown.days} days, {countdown.seconds//3600} hours, {(countdown.seconds//60)%60} minutes.\"\n",
        "        else:\n",
        "            return \"The specified date has already passed.\"\n",
        "    except ValueError:\n",
        "        return \"Please enter the date in YYYY-MM-DD format.\"\n",
        "\n",
        "# Create the Gradio interface\n",
        "interface = gr.Interface(\n",
        "    fn=countdown,\n",
        "    inputs=gr.Text(label=\"미래 날짜를 입력하세요 (예: 2024-12-25)\"),\n",
        "    outputs=\"text\",\n",
        "    title=\"날짜 카운트다운\",\n",
        "    description=\"지정된 날짜까지 남은 일수, 시간, 분을 확인하려면 날짜를 입력하세요.\"\n",
        ")\n",
        "\n",
        "interface.launch()\n",
        "\n"
      ],
      "metadata": {
        "colab": {
          "base_uri": "https://localhost:8080/",
          "height": 645
        },
        "id": "9UwiFn8b7Mv0",
        "outputId": "11295eb4-3878-48c8-c2d8-291606ff0c67"
      },
      "execution_count": null,
      "outputs": [
        {
          "output_type": "stream",
          "name": "stdout",
          "text": [
            "Running Gradio in a Colab notebook requires sharing enabled. Automatically setting `share=True` (you can turn this off by setting `share=False` in `launch()` explicitly).\n",
            "\n",
            "Colab notebook detected. To show errors in colab notebook, set debug=True in launch()\n",
            "* Running on public URL: https://9b40a8078023ab513d.gradio.live\n",
            "\n",
            "This share link expires in 72 hours. For free permanent hosting and GPU upgrades, run `gradio deploy` from the terminal in the working directory to deploy to Hugging Face Spaces (https://huggingface.co/spaces)\n"
          ]
        },
        {
          "output_type": "display_data",
          "data": {
            "text/plain": [
              "<IPython.core.display.HTML object>"
            ],
            "text/html": [
              "<div><iframe src=\"https://9b40a8078023ab513d.gradio.live\" width=\"100%\" height=\"500\" allow=\"autoplay; camera; microphone; clipboard-read; clipboard-write;\" frameborder=\"0\" allowfullscreen></iframe></div>"
            ]
          },
          "metadata": {}
        },
        {
          "output_type": "execute_result",
          "data": {
            "text/plain": []
          },
          "metadata": {},
          "execution_count": 45
        }
      ]
    }
  ]
}