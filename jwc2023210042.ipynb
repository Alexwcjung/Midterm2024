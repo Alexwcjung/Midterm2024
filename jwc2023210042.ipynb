{
  "nbformat": 4,
  "nbformat_minor": 0,
  "metadata": {
    "colab": {
      "provenance": [],
      "name": "jwc2023210042.ipynb",
      "authorship_tag": "ABX9TyODDryLewODm0WF1sMVx1G+",
      "include_colab_link": true
    },
    "kernelspec": {
      "name": "python3",
      "display_name": "Python 3"
    },
    "language_info": {
      "name": "python"
    }
  },
  "cells": [
    {
      "cell_type": "markdown",
      "metadata": {
        "id": "view-in-github",
        "colab_type": "text"
      },
      "source": [
        "<a href=\"https://colab.research.google.com/github/Alexwcjung/midterm24/blob/main/jwc2023210042.ipynb\" target=\"_parent\"><img src=\"https://colab.research.google.com/assets/colab-badge.svg\" alt=\"Open In Colab\"/></a>"
      ]
    },
    {
      "cell_type": "markdown",
      "source": [
        "#  🌀Midterm 2024: 정우창 (2023210042)"
      ],
      "metadata": {
        "id": "WfthXf8Cvyn3"
      }
    },
    {
      "cell_type": "markdown",
      "source": [
        "## Name Question"
      ],
      "metadata": {
        "id": "PeLNa37hwM8U"
      }
    },
    {
      "cell_type": "code",
      "source": [
        "# Name question\n",
        "x = \"My name is\"\n",
        "y = \"woochang Jung.\"\n",
        "print(x, y)\n"
      ],
      "metadata": {
        "colab": {
          "base_uri": "https://localhost:8080/"
        },
        "id": "Wsk_PUd5wf0h",
        "outputId": "e6cae41d-99b1-4bdc-dbeb-dc6253bb0c87"
      },
      "execution_count": null,
      "outputs": [
        {
          "output_type": "stream",
          "name": "stdout",
          "text": [
            "My name is woochang Jung.\n"
          ]
        }
      ]
    },
    {
      "cell_type": "code",
      "source": [
        "## Variable Question\n",
        "# 'Mary, 1998, Ohio; and John, 1999, Boston'\n",
        "x = input('Name: ')\n",
        "y = input('born in: ')\n",
        "z = input('hometown: ')\n",
        "print(f\"Hello, my name is {x}, I was born in {y}, and I'm from {z}, Nice to meet you\")"
      ],
      "metadata": {
        "colab": {
          "base_uri": "https://localhost:8080/"
        },
        "id": "8CftHWTNyETn",
        "outputId": "1f8a72bb-ab0d-45c8-b844-a4fe5b5ed9d5"
      },
      "execution_count": null,
      "outputs": [
        {
          "output_type": "stream",
          "name": "stdout",
          "text": [
            "Name: Mary\n",
            "born in: 1998\n",
            "hometown: Ohio\n",
            "Hello, my name is Mary, I was born in 1998, and I'm from Ohio, Nice to meet you\n"
          ]
        }
      ]
    },
    {
      "cell_type": "code",
      "source": [
        "## Index Question\n",
        "# Dropdown\n",
        "\n",
        "cardinal_number = \"2\" #@param = [\"1\",\"2\",\"3\",\"4\"]\n",
        "\n",
        "# Add one line of code below\n",
        "cardinal_number = int(cardinal_number) -1\n",
        "\n",
        "# Ordinal expression as a list\n",
        "\n",
        "words = [\"First\", \"Second\", \"Third\",\"Fourth\"]\n",
        "\n",
        "print(\"The ordinal expression:\", words[cardinal_number])"
      ],
      "metadata": {
        "colab": {
          "base_uri": "https://localhost:8080/"
        },
        "id": "gtFjgu_u09c_",
        "outputId": "f3523e14-64af-48fe-9a38-b378b97d398c"
      },
      "execution_count": null,
      "outputs": [
        {
          "output_type": "stream",
          "name": "stdout",
          "text": [
            "The ordinal expression: Second\n"
          ]
        }
      ]
    },
    {
      "cell_type": "markdown",
      "source": [
        "## GTTS Question"
      ],
      "metadata": {
        "id": "V_Yq8Qbx2bFq"
      }
    },
    {
      "cell_type": "code",
      "source": [
        "# First, install the gTTS library if you haven't already\n",
        "!pip install gTTS\n",
        "\n",
        "# Import the gTTS library\n",
        "from gtts import gTTS\n",
        "\n",
        "# Import IPython display module\n",
        "from IPython.display import Audio, display"
      ],
      "metadata": {
        "colab": {
          "base_uri": "https://localhost:8080/"
        },
        "id": "8lfgjD1w2mxe",
        "outputId": "7fdad30a-ccf6-4614-9f54-d2fd91f1601e"
      },
      "execution_count": null,
      "outputs": [
        {
          "output_type": "stream",
          "name": "stdout",
          "text": [
            "Collecting gTTS\n",
            "  Downloading gTTS-2.5.3-py3-none-any.whl.metadata (4.1 kB)\n",
            "Requirement already satisfied: requests<3,>=2.27 in /usr/local/lib/python3.10/dist-packages (from gTTS) (2.32.3)\n",
            "Requirement already satisfied: click<8.2,>=7.1 in /usr/local/lib/python3.10/dist-packages (from gTTS) (8.1.7)\n",
            "Requirement already satisfied: charset-normalizer<4,>=2 in /usr/local/lib/python3.10/dist-packages (from requests<3,>=2.27->gTTS) (3.4.0)\n",
            "Requirement already satisfied: idna<4,>=2.5 in /usr/local/lib/python3.10/dist-packages (from requests<3,>=2.27->gTTS) (3.10)\n",
            "Requirement already satisfied: urllib3<3,>=1.21.1 in /usr/local/lib/python3.10/dist-packages (from requests<3,>=2.27->gTTS) (2.2.3)\n",
            "Requirement already satisfied: certifi>=2017.4.17 in /usr/local/lib/python3.10/dist-packages (from requests<3,>=2.27->gTTS) (2024.8.30)\n",
            "Downloading gTTS-2.5.3-py3-none-any.whl (29 kB)\n",
            "Installing collected packages: gTTS\n",
            "Successfully installed gTTS-2.5.3\n"
          ]
        }
      ]
    },
    {
      "cell_type": "code",
      "source": [
        "# Text to be converted to speech\n",
        "text = input('text : ')\n",
        "\n",
        "# Language in which you want to convert\n",
        "language = 'en'\n",
        "\n",
        "# Pass the text and language to the gTTS module\n",
        "speech = gTTS(text = text, lang = language, slow = False)\n",
        "\n",
        "# Save the converted audio file\n",
        "speech.save(\"output.mp3\")\n",
        "\n",
        "# Display the audio directly in the notebook\n",
        "display(Audio(\"output.mp3\", autoplay=True))"
      ],
      "metadata": {
        "colab": {
          "base_uri": "https://localhost:8080/",
          "height": 92
        },
        "id": "ff2QtkYc2yTS",
        "outputId": "da2a0083-a7a8-430e-e7bc-5b982c1de0f5"
      },
      "execution_count": null,
      "outputs": [
        {
          "name": "stdout",
          "output_type": "stream",
          "text": [
            "text : hi I am good\n"
          ]
        },
        {
          "output_type": "display_data",
          "data": {
            "text/plain": [
              "<IPython.lib.display.Audio object>"
            ],
            "text/html": [
              "\n",
              "                <audio  controls=\"controls\" autoplay=\"autoplay\">\n",
              "                    <source src=\"data:audio/mpeg;base64,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\" type=\"audio/mpeg\" />\n",
              "                    Your browser does not support the audio element.\n",
              "                </audio>\n",
              "              "
            ]
          },
          "metadata": {}
        }
      ]
    },
    {
      "cell_type": "markdown",
      "source": [
        "## Function Question"
      ],
      "metadata": {
        "id": "otmug8WE3HWs"
      }
    },
    {
      "cell_type": "code",
      "source": [
        "# Define a function for multiplication\n",
        "def devide(x, y):\n",
        "    return x / y\n",
        "\n",
        "# Test the function\n",
        "result = devide(20, 4)\n",
        "print(\"The result of division is:\", result)"
      ],
      "metadata": {
        "colab": {
          "base_uri": "https://localhost:8080/"
        },
        "id": "F4rZrTCE3I2c",
        "outputId": "0a721e30-b002-4652-d3f7-197c4ced7bbb"
      },
      "execution_count": null,
      "outputs": [
        {
          "output_type": "stream",
          "name": "stdout",
          "text": [
            "The result of division is: 5.0\n"
          ]
        }
      ]
    },
    {
      "cell_type": "markdown",
      "source": [
        "## Dictionary Question"
      ],
      "metadata": {
        "id": "cx9oWIya4WIC"
      }
    },
    {
      "cell_type": "code",
      "source": [
        "# An example of a dictionary\n",
        "student_grades = {\"Alice\": 90, \"Bob\": 85, \"Charlie\": 95}\n",
        "# print(\"Student Grades:\", student_grades)"
      ],
      "metadata": {
        "id": "K3zAKSiw4YDV"
      },
      "execution_count": null,
      "outputs": []
    },
    {
      "cell_type": "code",
      "source": [
        "# Return Bob's grade\n",
        "student_grades['Bob']"
      ],
      "metadata": {
        "colab": {
          "base_uri": "https://localhost:8080/"
        },
        "id": "y-MQ92w35B3r",
        "outputId": "9ae775a2-f933-4fb0-f8b1-76a7df25f2d1"
      },
      "execution_count": null,
      "outputs": [
        {
          "output_type": "execute_result",
          "data": {
            "text/plain": [
              "85"
            ]
          },
          "metadata": {},
          "execution_count": 10
        }
      ]
    },
    {
      "cell_type": "markdown",
      "source": [
        "## Audio Question"
      ],
      "metadata": {
        "id": "he0Y1Owy5r1v"
      }
    },
    {
      "cell_type": "code",
      "source": [
        " # First, install the gTTS library if you haven't already\n",
        "!pip install gTTS\n",
        "\n",
        "# Import the gTTS library\n",
        "from gtts import gTTS\n",
        "\n",
        "# Import IPython display module\n",
        "from IPython.display import Audio, display"
      ],
      "metadata": {
        "colab": {
          "base_uri": "https://localhost:8080/"
        },
        "id": "BbB4AnKz5yxy",
        "outputId": "9244478e-67eb-4f0f-b4c7-f9a9c2d27f3d"
      },
      "execution_count": null,
      "outputs": [
        {
          "output_type": "stream",
          "name": "stdout",
          "text": [
            "Requirement already satisfied: gTTS in /usr/local/lib/python3.10/dist-packages (2.5.3)\n",
            "Requirement already satisfied: requests<3,>=2.27 in /usr/local/lib/python3.10/dist-packages (from gTTS) (2.32.3)\n",
            "Requirement already satisfied: click<8.2,>=7.1 in /usr/local/lib/python3.10/dist-packages (from gTTS) (8.1.7)\n",
            "Requirement already satisfied: charset-normalizer<4,>=2 in /usr/local/lib/python3.10/dist-packages (from requests<3,>=2.27->gTTS) (3.4.0)\n",
            "Requirement already satisfied: idna<4,>=2.5 in /usr/local/lib/python3.10/dist-packages (from requests<3,>=2.27->gTTS) (3.10)\n",
            "Requirement already satisfied: urllib3<3,>=1.21.1 in /usr/local/lib/python3.10/dist-packages (from requests<3,>=2.27->gTTS) (2.2.3)\n",
            "Requirement already satisfied: certifi>=2017.4.17 in /usr/local/lib/python3.10/dist-packages (from requests<3,>=2.27->gTTS) (2024.8.30)\n"
          ]
        }
      ]
    },
    {
      "cell_type": "code",
      "source": [
        "!pip install gradio\n",
        "import gradio as gr\n",
        "from gtts import gTTS\n",
        "import os\n",
        "\n",
        "def text_to_speech(text, language):\n",
        "    lang_code = 'en' if language == \"English\" else 'ko'\n",
        "    tts = gTTS(text=text, lang=lang_code, slow=False)\n",
        "    tts.save(\"output.mp3\")\n",
        "    return \"output.mp3\"\n",
        "\n",
        "interface = gr.Interface(\n",
        "    fn=text_to_speech,\n",
        "    inputs=[\n",
        "        gr.Textbox(lines=3, label=\"Enter text\"),\n",
        "        gr.Radio(choices=[\"English\", \"Korean\"], label=\"Select language\")\n",
        "    ],\n",
        "    outputs=gr.Audio(type=\"filepath\", label=\"Audio\"),\n",
        "    title=\"Text-to-Speech\",\n",
        "    description=\"Type in some text, select a language, and generate audio.\",\n",
        ")\n",
        "\n",
        "interface.launch()\n"
      ],
      "metadata": {
        "colab": {
          "base_uri": "https://localhost:8080/",
          "height": 1000
        },
        "id": "6ULi28Wn6AHZ",
        "outputId": "9d41b32f-6fb7-4a0e-8e47-49f6dd7af2f1"
      },
      "execution_count": null,
      "outputs": [
        {
          "output_type": "stream",
          "name": "stdout",
          "text": [
            "Collecting gradio\n",
            "  Downloading gradio-5.5.0-py3-none-any.whl.metadata (16 kB)\n",
            "Collecting aiofiles<24.0,>=22.0 (from gradio)\n",
            "  Downloading aiofiles-23.2.1-py3-none-any.whl.metadata (9.7 kB)\n",
            "Requirement already satisfied: anyio<5.0,>=3.0 in /usr/local/lib/python3.10/dist-packages (from gradio) (3.7.1)\n",
            "Collecting fastapi<1.0,>=0.115.2 (from gradio)\n",
            "  Downloading fastapi-0.115.4-py3-none-any.whl.metadata (27 kB)\n",
            "Collecting ffmpy (from gradio)\n",
            "  Downloading ffmpy-0.4.0-py3-none-any.whl.metadata (2.9 kB)\n",
            "Collecting gradio-client==1.4.2 (from gradio)\n",
            "  Downloading gradio_client-1.4.2-py3-none-any.whl.metadata (7.1 kB)\n",
            "Requirement already satisfied: httpx>=0.24.1 in /usr/local/lib/python3.10/dist-packages (from gradio) (0.27.2)\n",
            "Collecting huggingface-hub>=0.25.1 (from gradio)\n",
            "  Downloading huggingface_hub-0.26.2-py3-none-any.whl.metadata (13 kB)\n",
            "Requirement already satisfied: jinja2<4.0 in /usr/local/lib/python3.10/dist-packages (from gradio) (3.1.4)\n",
            "Collecting markupsafe~=2.0 (from gradio)\n",
            "  Downloading MarkupSafe-2.1.5-cp310-cp310-manylinux_2_17_x86_64.manylinux2014_x86_64.whl.metadata (3.0 kB)\n",
            "Requirement already satisfied: numpy<3.0,>=1.0 in /usr/local/lib/python3.10/dist-packages (from gradio) (1.26.4)\n",
            "Requirement already satisfied: orjson~=3.0 in /usr/local/lib/python3.10/dist-packages (from gradio) (3.10.10)\n",
            "Requirement already satisfied: packaging in /usr/local/lib/python3.10/dist-packages (from gradio) (24.1)\n",
            "Requirement already satisfied: pandas<3.0,>=1.0 in /usr/local/lib/python3.10/dist-packages (from gradio) (2.2.2)\n",
            "Requirement already satisfied: pillow<12.0,>=8.0 in /usr/local/lib/python3.10/dist-packages (from gradio) (10.4.0)\n",
            "Requirement already satisfied: pydantic>=2.0 in /usr/local/lib/python3.10/dist-packages (from gradio) (2.9.2)\n",
            "Collecting pydub (from gradio)\n",
            "  Downloading pydub-0.25.1-py2.py3-none-any.whl.metadata (1.4 kB)\n",
            "Collecting python-multipart==0.0.12 (from gradio)\n",
            "  Downloading python_multipart-0.0.12-py3-none-any.whl.metadata (1.9 kB)\n",
            "Requirement already satisfied: pyyaml<7.0,>=5.0 in /usr/local/lib/python3.10/dist-packages (from gradio) (6.0.2)\n",
            "Collecting ruff>=0.2.2 (from gradio)\n",
            "  Downloading ruff-0.7.3-py3-none-manylinux_2_17_x86_64.manylinux2014_x86_64.whl.metadata (25 kB)\n",
            "Collecting safehttpx<1.0,>=0.1.1 (from gradio)\n",
            "  Downloading safehttpx-0.1.1-py3-none-any.whl.metadata (4.1 kB)\n",
            "Collecting semantic-version~=2.0 (from gradio)\n",
            "  Downloading semantic_version-2.10.0-py2.py3-none-any.whl.metadata (9.7 kB)\n",
            "Collecting starlette<1.0,>=0.40.0 (from gradio)\n",
            "  Downloading starlette-0.41.2-py3-none-any.whl.metadata (6.0 kB)\n",
            "Collecting tomlkit==0.12.0 (from gradio)\n",
            "  Downloading tomlkit-0.12.0-py3-none-any.whl.metadata (2.7 kB)\n",
            "Requirement already satisfied: typer<1.0,>=0.12 in /usr/local/lib/python3.10/dist-packages (from gradio) (0.12.5)\n",
            "Requirement already satisfied: typing-extensions~=4.0 in /usr/local/lib/python3.10/dist-packages (from gradio) (4.12.2)\n",
            "Collecting uvicorn>=0.14.0 (from gradio)\n",
            "  Downloading uvicorn-0.32.0-py3-none-any.whl.metadata (6.6 kB)\n",
            "Requirement already satisfied: fsspec in /usr/local/lib/python3.10/dist-packages (from gradio-client==1.4.2->gradio) (2024.10.0)\n",
            "Collecting websockets<13.0,>=10.0 (from gradio-client==1.4.2->gradio)\n",
            "  Downloading websockets-12.0-cp310-cp310-manylinux_2_5_x86_64.manylinux1_x86_64.manylinux_2_17_x86_64.manylinux2014_x86_64.whl.metadata (6.6 kB)\n",
            "Requirement already satisfied: idna>=2.8 in /usr/local/lib/python3.10/dist-packages (from anyio<5.0,>=3.0->gradio) (3.10)\n",
            "Requirement already satisfied: sniffio>=1.1 in /usr/local/lib/python3.10/dist-packages (from anyio<5.0,>=3.0->gradio) (1.3.1)\n",
            "Requirement already satisfied: exceptiongroup in /usr/local/lib/python3.10/dist-packages (from anyio<5.0,>=3.0->gradio) (1.2.2)\n",
            "Requirement already satisfied: certifi in /usr/local/lib/python3.10/dist-packages (from httpx>=0.24.1->gradio) (2024.8.30)\n",
            "Requirement already satisfied: httpcore==1.* in /usr/local/lib/python3.10/dist-packages (from httpx>=0.24.1->gradio) (1.0.6)\n",
            "Requirement already satisfied: h11<0.15,>=0.13 in /usr/local/lib/python3.10/dist-packages (from httpcore==1.*->httpx>=0.24.1->gradio) (0.14.0)\n",
            "Requirement already satisfied: filelock in /usr/local/lib/python3.10/dist-packages (from huggingface-hub>=0.25.1->gradio) (3.16.1)\n",
            "Requirement already satisfied: requests in /usr/local/lib/python3.10/dist-packages (from huggingface-hub>=0.25.1->gradio) (2.32.3)\n",
            "Requirement already satisfied: tqdm>=4.42.1 in /usr/local/lib/python3.10/dist-packages (from huggingface-hub>=0.25.1->gradio) (4.66.6)\n",
            "Requirement already satisfied: python-dateutil>=2.8.2 in /usr/local/lib/python3.10/dist-packages (from pandas<3.0,>=1.0->gradio) (2.8.2)\n",
            "Requirement already satisfied: pytz>=2020.1 in /usr/local/lib/python3.10/dist-packages (from pandas<3.0,>=1.0->gradio) (2024.2)\n",
            "Requirement already satisfied: tzdata>=2022.7 in /usr/local/lib/python3.10/dist-packages (from pandas<3.0,>=1.0->gradio) (2024.2)\n",
            "Requirement already satisfied: annotated-types>=0.6.0 in /usr/local/lib/python3.10/dist-packages (from pydantic>=2.0->gradio) (0.7.0)\n",
            "Requirement already satisfied: pydantic-core==2.23.4 in /usr/local/lib/python3.10/dist-packages (from pydantic>=2.0->gradio) (2.23.4)\n",
            "Requirement already satisfied: click>=8.0.0 in /usr/local/lib/python3.10/dist-packages (from typer<1.0,>=0.12->gradio) (8.1.7)\n",
            "Requirement already satisfied: shellingham>=1.3.0 in /usr/local/lib/python3.10/dist-packages (from typer<1.0,>=0.12->gradio) (1.5.4)\n",
            "Requirement already satisfied: rich>=10.11.0 in /usr/local/lib/python3.10/dist-packages (from typer<1.0,>=0.12->gradio) (13.9.3)\n",
            "Requirement already satisfied: six>=1.5 in /usr/local/lib/python3.10/dist-packages (from python-dateutil>=2.8.2->pandas<3.0,>=1.0->gradio) (1.16.0)\n",
            "Requirement already satisfied: markdown-it-py>=2.2.0 in /usr/local/lib/python3.10/dist-packages (from rich>=10.11.0->typer<1.0,>=0.12->gradio) (3.0.0)\n",
            "Requirement already satisfied: pygments<3.0.0,>=2.13.0 in /usr/local/lib/python3.10/dist-packages (from rich>=10.11.0->typer<1.0,>=0.12->gradio) (2.18.0)\n",
            "Requirement already satisfied: charset-normalizer<4,>=2 in /usr/local/lib/python3.10/dist-packages (from requests->huggingface-hub>=0.25.1->gradio) (3.4.0)\n",
            "Requirement already satisfied: urllib3<3,>=1.21.1 in /usr/local/lib/python3.10/dist-packages (from requests->huggingface-hub>=0.25.1->gradio) (2.2.3)\n",
            "Requirement already satisfied: mdurl~=0.1 in /usr/local/lib/python3.10/dist-packages (from markdown-it-py>=2.2.0->rich>=10.11.0->typer<1.0,>=0.12->gradio) (0.1.2)\n",
            "Downloading gradio-5.5.0-py3-none-any.whl (56.7 MB)\n",
            "\u001b[2K   \u001b[90m━━━━━━━━━━━━━━━━━━━━━━━━━━━━━━━━━━━━━━━━\u001b[0m \u001b[32m56.7/56.7 MB\u001b[0m \u001b[31m14.1 MB/s\u001b[0m eta \u001b[36m0:00:00\u001b[0m\n",
            "\u001b[?25hDownloading gradio_client-1.4.2-py3-none-any.whl (319 kB)\n",
            "\u001b[2K   \u001b[90m━━━━━━━━━━━━━━━━━━━━━━━━━━━━━━━━━━━━━━━━\u001b[0m \u001b[32m319.8/319.8 kB\u001b[0m \u001b[31m31.0 MB/s\u001b[0m eta \u001b[36m0:00:00\u001b[0m\n",
            "\u001b[?25hDownloading python_multipart-0.0.12-py3-none-any.whl (23 kB)\n",
            "Downloading tomlkit-0.12.0-py3-none-any.whl (37 kB)\n",
            "Downloading aiofiles-23.2.1-py3-none-any.whl (15 kB)\n",
            "Downloading fastapi-0.115.4-py3-none-any.whl (94 kB)\n",
            "\u001b[2K   \u001b[90m━━━━━━━━━━━━━━━━━━━━━━━━━━━━━━━━━━━━━━━━\u001b[0m \u001b[32m94.7/94.7 kB\u001b[0m \u001b[31m9.7 MB/s\u001b[0m eta \u001b[36m0:00:00\u001b[0m\n",
            "\u001b[?25hDownloading huggingface_hub-0.26.2-py3-none-any.whl (447 kB)\n",
            "\u001b[2K   \u001b[90m━━━━━━━━━━━━━━━━━━━━━━━━━━━━━━━━━━━━━━━━\u001b[0m \u001b[32m447.5/447.5 kB\u001b[0m \u001b[31m38.7 MB/s\u001b[0m eta \u001b[36m0:00:00\u001b[0m\n",
            "\u001b[?25hDownloading MarkupSafe-2.1.5-cp310-cp310-manylinux_2_17_x86_64.manylinux2014_x86_64.whl (25 kB)\n",
            "Downloading ruff-0.7.3-py3-none-manylinux_2_17_x86_64.manylinux2014_x86_64.whl (11.0 MB)\n",
            "\u001b[2K   \u001b[90m━━━━━━━━━━━━━━━━━━━━━━━━━━━━━━━━━━━━━━━━\u001b[0m \u001b[32m11.0/11.0 MB\u001b[0m \u001b[31m110.4 MB/s\u001b[0m eta \u001b[36m0:00:00\u001b[0m\n",
            "\u001b[?25hDownloading safehttpx-0.1.1-py3-none-any.whl (8.4 kB)\n",
            "Downloading semantic_version-2.10.0-py2.py3-none-any.whl (15 kB)\n",
            "Downloading starlette-0.41.2-py3-none-any.whl (73 kB)\n",
            "\u001b[2K   \u001b[90m━━━━━━━━━━━━━━━━━━━━━━━━━━━━━━━━━━━━━━━━\u001b[0m \u001b[32m73.3/73.3 kB\u001b[0m \u001b[31m8.4 MB/s\u001b[0m eta \u001b[36m0:00:00\u001b[0m\n",
            "\u001b[?25hDownloading uvicorn-0.32.0-py3-none-any.whl (63 kB)\n",
            "\u001b[2K   \u001b[90m━━━━━━━━━━━━━━━━━━━━━━━━━━━━━━━━━━━━━━━━\u001b[0m \u001b[32m63.7/63.7 kB\u001b[0m \u001b[31m6.7 MB/s\u001b[0m eta \u001b[36m0:00:00\u001b[0m\n",
            "\u001b[?25hDownloading ffmpy-0.4.0-py3-none-any.whl (5.8 kB)\n",
            "Downloading pydub-0.25.1-py2.py3-none-any.whl (32 kB)\n",
            "Downloading websockets-12.0-cp310-cp310-manylinux_2_5_x86_64.manylinux1_x86_64.manylinux_2_17_x86_64.manylinux2014_x86_64.whl (130 kB)\n",
            "\u001b[2K   \u001b[90m━━━━━━━━━━━━━━━━━━━━━━━━━━━━━━━━━━━━━━━━\u001b[0m \u001b[32m130.2/130.2 kB\u001b[0m \u001b[31m14.8 MB/s\u001b[0m eta \u001b[36m0:00:00\u001b[0m\n",
            "\u001b[?25hInstalling collected packages: pydub, websockets, uvicorn, tomlkit, semantic-version, ruff, python-multipart, markupsafe, ffmpy, aiofiles, starlette, huggingface-hub, safehttpx, gradio-client, fastapi, gradio\n",
            "  Attempting uninstall: markupsafe\n",
            "    Found existing installation: MarkupSafe 3.0.2\n",
            "    Uninstalling MarkupSafe-3.0.2:\n",
            "      Successfully uninstalled MarkupSafe-3.0.2\n",
            "  Attempting uninstall: huggingface-hub\n",
            "    Found existing installation: huggingface-hub 0.24.7\n",
            "    Uninstalling huggingface-hub-0.24.7:\n",
            "      Successfully uninstalled huggingface-hub-0.24.7\n",
            "Successfully installed aiofiles-23.2.1 fastapi-0.115.4 ffmpy-0.4.0 gradio-5.5.0 gradio-client-1.4.2 huggingface-hub-0.26.2 markupsafe-2.1.5 pydub-0.25.1 python-multipart-0.0.12 ruff-0.7.3 safehttpx-0.1.1 semantic-version-2.10.0 starlette-0.41.2 tomlkit-0.12.0 uvicorn-0.32.0 websockets-12.0\n",
            "Running Gradio in a Colab notebook requires sharing enabled. Automatically setting `share=True` (you can turn this off by setting `share=False` in `launch()` explicitly).\n",
            "\n",
            "Colab notebook detected. To show errors in colab notebook, set debug=True in launch()\n",
            "* Running on public URL: https://abecd18927a60b1745.gradio.live\n",
            "\n",
            "This share link expires in 72 hours. For free permanent hosting and GPU upgrades, run `gradio deploy` from the terminal in the working directory to deploy to Hugging Face Spaces (https://huggingface.co/spaces)\n"
          ]
        },
        {
          "output_type": "display_data",
          "data": {
            "text/plain": [
              "<IPython.core.display.HTML object>"
            ],
            "text/html": [
              "<div><iframe src=\"https://abecd18927a60b1745.gradio.live\" width=\"100%\" height=\"500\" allow=\"autoplay; camera; microphone; clipboard-read; clipboard-write;\" frameborder=\"0\" allowfullscreen></iframe></div>"
            ]
          },
          "metadata": {}
        },
        {
          "output_type": "execute_result",
          "data": {
            "text/plain": []
          },
          "metadata": {},
          "execution_count": 12
        }
      ]
    },
    {
      "cell_type": "markdown",
      "source": [
        "##Countdown Question"
      ],
      "metadata": {
        "id": "vmPAvVMj7Kk_"
      }
    },
    {
      "cell_type": "code",
      "source": [
        "import gradio as gr\n",
        "from datetime import datetime\n",
        "\n",
        "def countdown(target_date):\n",
        "    try:\n",
        "        # Parse the user input date\n",
        "        date_format = \"%Y-%m-%d\"\n",
        "        future_date = datetime.strptime(target_date, date_format)\n",
        "\n",
        "        # Get the current time\n",
        "        now = datetime.now()\n",
        "\n",
        "        # Calculate the difference between the future date and the current time\n",
        "        countdown = future_date - now\n",
        "\n",
        "        # Generate the countdown message\n",
        "        if countdown.days >= 0:\n",
        "            return f\"Time until {target_date}: \\n {countdown.days} days, {countdown.seconds//3600} hours, {(countdown.seconds//60)%60} minutes.\"\n",
        "        else:\n",
        "            return \"입력하신 날짜는 이미 지났습니다.\"\n",
        "    except ValueError:\n",
        "        return \"Please enter the date in YYYY-MM-DD format.\"\n",
        "\n",
        "# Create the Gradio interface\n",
        "interface = gr.Interface(\n",
        "    fn=countdown,\n",
        "    inputs=gr.Text(label=\"미래 날짜를 입력하세요 (예: 2024-12-25)\"),\n",
        "    outputs=\"text\",\n",
        "    title=\"날짜 카운트다운\",\n",
        "    description=\"지정된 날짜까지 남은 일수, 시간, 분을 확인하려면 날짜를 입력하세요.\"\n",
        ")\n",
        "\n",
        "interface.launch()\n",
        "\n"
      ],
      "metadata": {
        "colab": {
          "base_uri": "https://localhost:8080/",
          "height": 645
        },
        "id": "9UwiFn8b7Mv0",
        "outputId": "37e9cb10-9045-4d88-d613-d5394a7e50a6"
      },
      "execution_count": null,
      "outputs": [
        {
          "output_type": "stream",
          "name": "stdout",
          "text": [
            "Running Gradio in a Colab notebook requires sharing enabled. Automatically setting `share=True` (you can turn this off by setting `share=False` in `launch()` explicitly).\n",
            "\n",
            "Colab notebook detected. To show errors in colab notebook, set debug=True in launch()\n",
            "* Running on public URL: https://d1eddfbd5f9680f2de.gradio.live\n",
            "\n",
            "This share link expires in 72 hours. For free permanent hosting and GPU upgrades, run `gradio deploy` from the terminal in the working directory to deploy to Hugging Face Spaces (https://huggingface.co/spaces)\n"
          ]
        },
        {
          "output_type": "display_data",
          "data": {
            "text/plain": [
              "<IPython.core.display.HTML object>"
            ],
            "text/html": [
              "<div><iframe src=\"https://d1eddfbd5f9680f2de.gradio.live\" width=\"100%\" height=\"500\" allow=\"autoplay; camera; microphone; clipboard-read; clipboard-write;\" frameborder=\"0\" allowfullscreen></iframe></div>"
            ]
          },
          "metadata": {}
        },
        {
          "output_type": "execute_result",
          "data": {
            "text/plain": []
          },
          "metadata": {},
          "execution_count": 14
        }
      ]
    },
    {
      "cell_type": "code",
      "source": [],
      "metadata": {
        "id": "RRenzaCnFHtm"
      },
      "execution_count": null,
      "outputs": []
    }
  ]
}