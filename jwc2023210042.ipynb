{
  "nbformat": 4,
  "nbformat_minor": 0,
  "metadata": {
    "colab": {
      "provenance": [],
      "name": "jwc2023210042.ipynb",
      "authorship_tag": "ABX9TyOOdemo0HIIfwylH7YhKj34",
      "include_colab_link": true
    },
    "kernelspec": {
      "name": "python3",
      "display_name": "Python 3"
    },
    "language_info": {
      "name": "python"
    }
  },
  "cells": [
    {
      "cell_type": "markdown",
      "metadata": {
        "id": "view-in-github",
        "colab_type": "text"
      },
      "source": [
        "<a href=\"https://colab.research.google.com/github/Alexwcjung/midterm24/blob/main/jwc2023210042.ipynb\" target=\"_parent\"><img src=\"https://colab.research.google.com/assets/colab-badge.svg\" alt=\"Open In Colab\"/></a>"
      ]
    },
    {
      "cell_type": "markdown",
      "source": [
        "#  🌀Midterm 2024: 정우창 (2023210042)"
      ],
      "metadata": {
        "id": "WfthXf8Cvyn3"
      }
    },
    {
      "cell_type": "markdown",
      "source": [
        "## Name Question"
      ],
      "metadata": {
        "id": "PeLNa37hwM8U"
      }
    },
    {
      "cell_type": "code",
      "source": [
        "# Name question\n",
        "x = \"My name is\"\n",
        "y = \"woochang Jung.\"\n",
        "print(x, y)\n"
      ],
      "metadata": {
        "colab": {
          "base_uri": "https://localhost:8080/"
        },
        "id": "Wsk_PUd5wf0h",
        "outputId": "376eb5c0-b1b4-4bb6-c851-1c97660e94c1"
      },
      "execution_count": null,
      "outputs": [
        {
          "output_type": "stream",
          "name": "stdout",
          "text": [
            "My name is woochang Jung.\n"
          ]
        }
      ]
    },
    {
      "cell_type": "markdown",
      "source": [
        "## Variable Question\n",
        "\n"
      ],
      "metadata": {
        "id": "tag-Hg0_GdDX"
      }
    },
    {
      "cell_type": "code",
      "source": [
        "## Variable Question\n",
        "# 'Mary, 1998, Ohio; and John, 1999, Boston'\n",
        "x = input('Name: ')\n",
        "y = input('born in: ')\n",
        "z = input('hometown: ')\n",
        "print(f\"Hello, my name is {x}, I was born in {y}, and I'm from {z}, Nice to meet you\")"
      ],
      "metadata": {
        "colab": {
          "base_uri": "https://localhost:8080/"
        },
        "id": "8CftHWTNyETn",
        "outputId": "1f8a72bb-ab0d-45c8-b844-a4fe5b5ed9d5"
      },
      "execution_count": null,
      "outputs": [
        {
          "output_type": "stream",
          "name": "stdout",
          "text": [
            "Name: Mary\n",
            "born in: 1998\n",
            "hometown: Ohio\n",
            "Hello, my name is Mary, I was born in 1998, and I'm from Ohio, Nice to meet you\n"
          ]
        }
      ]
    },
    {
      "cell_type": "markdown",
      "source": [
        "## Index Question"
      ],
      "metadata": {
        "id": "XGRJmLFwGj8I"
      }
    },
    {
      "cell_type": "code",
      "source": [
        "## Index Question\n",
        "# Dropdown\n",
        "\n",
        "cardinal_number = \"2\" #@param = [\"1\",\"2\",\"3\",\"4\"]\n",
        "\n",
        "# Add one line of code below\n",
        "cardinal_number = int(cardinal_number) -1\n",
        "\n",
        "# Ordinal expression as a list\n",
        "\n",
        "words = [\"First\", \"Second\", \"Third\",\"Fourth\"]\n",
        "\n",
        "print(\"The ordinal expression:\", words[cardinal_number])"
      ],
      "metadata": {
        "colab": {
          "base_uri": "https://localhost:8080/"
        },
        "id": "gtFjgu_u09c_",
        "outputId": "70f7f73a-aba5-4b20-a39c-4378b9401785"
      },
      "execution_count": null,
      "outputs": [
        {
          "output_type": "stream",
          "name": "stdout",
          "text": [
            "The ordinal expression: Second\n"
          ]
        }
      ]
    },
    {
      "cell_type": "markdown",
      "source": [
        "## GTTS Question"
      ],
      "metadata": {
        "id": "V_Yq8Qbx2bFq"
      }
    },
    {
      "cell_type": "code",
      "source": [
        "# First, install the gTTS library if you haven't already\n",
        "!pip install gTTS\n",
        "\n",
        "# Import the gTTS library\n",
        "from gtts import gTTS\n",
        "\n",
        "# Import IPython display module\n",
        "from IPython.display import Audio, display"
      ],
      "metadata": {
        "colab": {
          "base_uri": "https://localhost:8080/"
        },
        "id": "8lfgjD1w2mxe",
        "outputId": "4549929d-2886-4b5c-b2f7-8acdb9c2da3a"
      },
      "execution_count": null,
      "outputs": [
        {
          "output_type": "stream",
          "name": "stdout",
          "text": [
            "Requirement already satisfied: gTTS in /usr/local/lib/python3.10/dist-packages (2.5.3)\n",
            "Requirement already satisfied: requests<3,>=2.27 in /usr/local/lib/python3.10/dist-packages (from gTTS) (2.32.3)\n",
            "Requirement already satisfied: click<8.2,>=7.1 in /usr/local/lib/python3.10/dist-packages (from gTTS) (8.1.7)\n",
            "Requirement already satisfied: charset-normalizer<4,>=2 in /usr/local/lib/python3.10/dist-packages (from requests<3,>=2.27->gTTS) (3.4.0)\n",
            "Requirement already satisfied: idna<4,>=2.5 in /usr/local/lib/python3.10/dist-packages (from requests<3,>=2.27->gTTS) (3.10)\n",
            "Requirement already satisfied: urllib3<3,>=1.21.1 in /usr/local/lib/python3.10/dist-packages (from requests<3,>=2.27->gTTS) (2.2.3)\n",
            "Requirement already satisfied: certifi>=2017.4.17 in /usr/local/lib/python3.10/dist-packages (from requests<3,>=2.27->gTTS) (2024.8.30)\n"
          ]
        }
      ]
    },
    {
      "cell_type": "code",
      "source": [
        "# Text to be converted to speech\n",
        "text = input('text : ')\n",
        "\n",
        "# Language in which you want to convert\n",
        "language = 'en'\n",
        "\n",
        "# Pass the text and language to the gTTS module\n",
        "speech = gTTS(text = text, lang = language, slow = False)\n",
        "\n",
        "# Save the converted audio file\n",
        "speech.save(\"output.mp3\")\n",
        "\n",
        "# Display the audio directly in the notebook\n",
        "display(Audio(\"output.mp3\", autoplay=True))"
      ],
      "metadata": {
        "colab": {
          "base_uri": "https://localhost:8080/",
          "height": 92
        },
        "id": "ff2QtkYc2yTS",
        "outputId": "617a09ed-2377-43d2-ee52-1c9f999cdb57"
      },
      "execution_count": null,
      "outputs": [
        {
          "name": "stdout",
          "output_type": "stream",
          "text": [
            "text : I have succeeded in this task\n"
          ]
        },
        {
          "output_type": "display_data",
          "data": {
            "text/plain": [
              "<IPython.lib.display.Audio object>"
            ],
            "text/html": [
              "\n",
              "                <audio  controls=\"controls\" autoplay=\"autoplay\">\n",
              "                    <source src=\"data:audio/mpeg;base64,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\" type=\"audio/mpeg\" />\n",
              "                    Your browser does not support the audio element.\n",
              "                </audio>\n",
              "              "
            ]
          },
          "metadata": {}
        }
      ]
    },
    {
      "cell_type": "markdown",
      "source": [
        "## Function Question"
      ],
      "metadata": {
        "id": "otmug8WE3HWs"
      }
    },
    {
      "cell_type": "code",
      "source": [
        "# Define a function for multiplication\n",
        "def devide(x, y):\n",
        "    return x / y\n",
        "\n",
        "# Test the function\n",
        "result = devide(20, 4)\n",
        "print(\"The result of division is:\", result)"
      ],
      "metadata": {
        "colab": {
          "base_uri": "https://localhost:8080/"
        },
        "id": "F4rZrTCE3I2c",
        "outputId": "02dc4774-fd4b-4071-8f43-971b01159aac"
      },
      "execution_count": null,
      "outputs": [
        {
          "output_type": "stream",
          "name": "stdout",
          "text": [
            "The result of division is: 5.0\n"
          ]
        }
      ]
    },
    {
      "cell_type": "markdown",
      "source": [
        "## Dictionary Question"
      ],
      "metadata": {
        "id": "cx9oWIya4WIC"
      }
    },
    {
      "cell_type": "code",
      "source": [
        "# An example of a dictionary\n",
        "student_grades = {\"Alice\": 90, \"Bob\": 85, \"Charlie\": 95}\n",
        "# print(\"Student Grades:\", student_grades)"
      ],
      "metadata": {
        "id": "K3zAKSiw4YDV"
      },
      "execution_count": null,
      "outputs": []
    },
    {
      "cell_type": "code",
      "source": [
        "# Return Bob's grade\n",
        "student_grades['Bob']"
      ],
      "metadata": {
        "colab": {
          "base_uri": "https://localhost:8080/"
        },
        "id": "y-MQ92w35B3r",
        "outputId": "9ae775a2-f933-4fb0-f8b1-76a7df25f2d1"
      },
      "execution_count": null,
      "outputs": [
        {
          "output_type": "execute_result",
          "data": {
            "text/plain": [
              "85"
            ]
          },
          "metadata": {},
          "execution_count": 10
        }
      ]
    },
    {
      "cell_type": "markdown",
      "source": [
        "## Audio Question"
      ],
      "metadata": {
        "id": "he0Y1Owy5r1v"
      }
    },
    {
      "cell_type": "code",
      "source": [
        " # First, install the gTTS library if you haven't already\n",
        "!pip install gTTS\n",
        "\n",
        "# Import the gTTS library\n",
        "from gtts import gTTS\n",
        "\n",
        "# Import IPython display module\n",
        "from IPython.display import Audio, display"
      ],
      "metadata": {
        "colab": {
          "base_uri": "https://localhost:8080/"
        },
        "id": "BbB4AnKz5yxy",
        "outputId": "b9ee9e44-d2d1-49a6-ec91-2282d2f67fcf"
      },
      "execution_count": null,
      "outputs": [
        {
          "output_type": "stream",
          "name": "stdout",
          "text": [
            "Requirement already satisfied: gTTS in /usr/local/lib/python3.10/dist-packages (2.5.3)\n",
            "Requirement already satisfied: requests<3,>=2.27 in /usr/local/lib/python3.10/dist-packages (from gTTS) (2.32.3)\n",
            "Requirement already satisfied: click<8.2,>=7.1 in /usr/local/lib/python3.10/dist-packages (from gTTS) (8.1.7)\n",
            "Requirement already satisfied: charset-normalizer<4,>=2 in /usr/local/lib/python3.10/dist-packages (from requests<3,>=2.27->gTTS) (3.4.0)\n",
            "Requirement already satisfied: idna<4,>=2.5 in /usr/local/lib/python3.10/dist-packages (from requests<3,>=2.27->gTTS) (3.10)\n",
            "Requirement already satisfied: urllib3<3,>=1.21.1 in /usr/local/lib/python3.10/dist-packages (from requests<3,>=2.27->gTTS) (2.2.3)\n",
            "Requirement already satisfied: certifi>=2017.4.17 in /usr/local/lib/python3.10/dist-packages (from requests<3,>=2.27->gTTS) (2024.8.30)\n"
          ]
        }
      ]
    },
    {
      "cell_type": "code",
      "source": [
        "!pip install gradio\n",
        "import gradio as gr\n",
        "from gtts import gTTS\n",
        "import os\n",
        "\n",
        "def text_to_speech(text, language):\n",
        "    lang_code = 'en' if language == \"English\" else 'ko'\n",
        "    tts = gTTS(text=text, lang=lang_code, slow=False)\n",
        "    tts.save(\"output.mp3\")\n",
        "    return \"output.mp3\"\n",
        "\n",
        "interface = gr.Interface(\n",
        "    fn=text_to_speech,\n",
        "    inputs=[\n",
        "        gr.Textbox(lines=3, label=\"Enter text\"),\n",
        "        gr.Radio(choices=[\"English\", \"Korean\"], label=\"Select language\")\n",
        "    ],\n",
        "    outputs=gr.Audio(type=\"filepath\", label=\"Audio\"),\n",
        "    title=\"Text-to-Speech\",\n",
        "    description=\"Type in some text, select a language, and generate audio.\",\n",
        ")\n",
        "\n",
        "interface.launch()\n"
      ],
      "metadata": {
        "colab": {
          "base_uri": "https://localhost:8080/",
          "height": 1000
        },
        "id": "6ULi28Wn6AHZ",
        "outputId": "9d41b32f-6fb7-4a0e-8e47-49f6dd7af2f1"
      },
      "execution_count": null,
      "outputs": [
        {
          "output_type": "stream",
          "name": "stdout",
          "text": [
            "Collecting gradio\n",
            "  Downloading gradio-5.5.0-py3-none-any.whl.metadata (16 kB)\n",
            "Collecting aiofiles<24.0,>=22.0 (from gradio)\n",
            "  Downloading aiofiles-23.2.1-py3-none-any.whl.metadata (9.7 kB)\n",
            "Requirement already satisfied: anyio<5.0,>=3.0 in /usr/local/lib/python3.10/dist-packages (from gradio) (3.7.1)\n",
            "Collecting fastapi<1.0,>=0.115.2 (from gradio)\n",
            "  Downloading fastapi-0.115.4-py3-none-any.whl.metadata (27 kB)\n",
            "Collecting ffmpy (from gradio)\n",
            "  Downloading ffmpy-0.4.0-py3-none-any.whl.metadata (2.9 kB)\n",
            "Collecting gradio-client==1.4.2 (from gradio)\n",
            "  Downloading gradio_client-1.4.2-py3-none-any.whl.metadata (7.1 kB)\n",
            "Requirement already satisfied: httpx>=0.24.1 in /usr/local/lib/python3.10/dist-packages (from gradio) (0.27.2)\n",
            "Collecting huggingface-hub>=0.25.1 (from gradio)\n",
            "  Downloading huggingface_hub-0.26.2-py3-none-any.whl.metadata (13 kB)\n",
            "Requirement already satisfied: jinja2<4.0 in /usr/local/lib/python3.10/dist-packages (from gradio) (3.1.4)\n",
            "Collecting markupsafe~=2.0 (from gradio)\n",
            "  Downloading MarkupSafe-2.1.5-cp310-cp310-manylinux_2_17_x86_64.manylinux2014_x86_64.whl.metadata (3.0 kB)\n",
            "Requirement already satisfied: numpy<3.0,>=1.0 in /usr/local/lib/python3.10/dist-packages (from gradio) (1.26.4)\n",
            "Requirement already satisfied: orjson~=3.0 in /usr/local/lib/python3.10/dist-packages (from gradio) (3.10.10)\n",
            "Requirement already satisfied: packaging in /usr/local/lib/python3.10/dist-packages (from gradio) (24.1)\n",
            "Requirement already satisfied: pandas<3.0,>=1.0 in /usr/local/lib/python3.10/dist-packages (from gradio) (2.2.2)\n",
            "Requirement already satisfied: pillow<12.0,>=8.0 in /usr/local/lib/python3.10/dist-packages (from gradio) (10.4.0)\n",
            "Requirement already satisfied: pydantic>=2.0 in /usr/local/lib/python3.10/dist-packages (from gradio) (2.9.2)\n",
            "Collecting pydub (from gradio)\n",
            "  Downloading pydub-0.25.1-py2.py3-none-any.whl.metadata (1.4 kB)\n",
            "Collecting python-multipart==0.0.12 (from gradio)\n",
            "  Downloading python_multipart-0.0.12-py3-none-any.whl.metadata (1.9 kB)\n",
            "Requirement already satisfied: pyyaml<7.0,>=5.0 in /usr/local/lib/python3.10/dist-packages (from gradio) (6.0.2)\n",
            "Collecting ruff>=0.2.2 (from gradio)\n",
            "  Downloading ruff-0.7.3-py3-none-manylinux_2_17_x86_64.manylinux2014_x86_64.whl.metadata (25 kB)\n",
            "Collecting safehttpx<1.0,>=0.1.1 (from gradio)\n",
            "  Downloading safehttpx-0.1.1-py3-none-any.whl.metadata (4.1 kB)\n",
            "Collecting semantic-version~=2.0 (from gradio)\n",
            "  Downloading semantic_version-2.10.0-py2.py3-none-any.whl.metadata (9.7 kB)\n",
            "Collecting starlette<1.0,>=0.40.0 (from gradio)\n",
            "  Downloading starlette-0.41.2-py3-none-any.whl.metadata (6.0 kB)\n",
            "Collecting tomlkit==0.12.0 (from gradio)\n",
            "  Downloading tomlkit-0.12.0-py3-none-any.whl.metadata (2.7 kB)\n",
            "Requirement already satisfied: typer<1.0,>=0.12 in /usr/local/lib/python3.10/dist-packages (from gradio) (0.12.5)\n",
            "Requirement already satisfied: typing-extensions~=4.0 in /usr/local/lib/python3.10/dist-packages (from gradio) (4.12.2)\n",
            "Collecting uvicorn>=0.14.0 (from gradio)\n",
            "  Downloading uvicorn-0.32.0-py3-none-any.whl.metadata (6.6 kB)\n",
            "Requirement already satisfied: fsspec in /usr/local/lib/python3.10/dist-packages (from gradio-client==1.4.2->gradio) (2024.10.0)\n",
            "Collecting websockets<13.0,>=10.0 (from gradio-client==1.4.2->gradio)\n",
            "  Downloading websockets-12.0-cp310-cp310-manylinux_2_5_x86_64.manylinux1_x86_64.manylinux_2_17_x86_64.manylinux2014_x86_64.whl.metadata (6.6 kB)\n",
            "Requirement already satisfied: idna>=2.8 in /usr/local/lib/python3.10/dist-packages (from anyio<5.0,>=3.0->gradio) (3.10)\n",
            "Requirement already satisfied: sniffio>=1.1 in /usr/local/lib/python3.10/dist-packages (from anyio<5.0,>=3.0->gradio) (1.3.1)\n",
            "Requirement already satisfied: exceptiongroup in /usr/local/lib/python3.10/dist-packages (from anyio<5.0,>=3.0->gradio) (1.2.2)\n",
            "Requirement already satisfied: certifi in /usr/local/lib/python3.10/dist-packages (from httpx>=0.24.1->gradio) (2024.8.30)\n",
            "Requirement already satisfied: httpcore==1.* in /usr/local/lib/python3.10/dist-packages (from httpx>=0.24.1->gradio) (1.0.6)\n",
            "Requirement already satisfied: h11<0.15,>=0.13 in /usr/local/lib/python3.10/dist-packages (from httpcore==1.*->httpx>=0.24.1->gradio) (0.14.0)\n",
            "Requirement already satisfied: filelock in /usr/local/lib/python3.10/dist-packages (from huggingface-hub>=0.25.1->gradio) (3.16.1)\n",
            "Requirement already satisfied: requests in /usr/local/lib/python3.10/dist-packages (from huggingface-hub>=0.25.1->gradio) (2.32.3)\n",
            "Requirement already satisfied: tqdm>=4.42.1 in /usr/local/lib/python3.10/dist-packages (from huggingface-hub>=0.25.1->gradio) (4.66.6)\n",
            "Requirement already satisfied: python-dateutil>=2.8.2 in /usr/local/lib/python3.10/dist-packages (from pandas<3.0,>=1.0->gradio) (2.8.2)\n",
            "Requirement already satisfied: pytz>=2020.1 in /usr/local/lib/python3.10/dist-packages (from pandas<3.0,>=1.0->gradio) (2024.2)\n",
            "Requirement already satisfied: tzdata>=2022.7 in /usr/local/lib/python3.10/dist-packages (from pandas<3.0,>=1.0->gradio) (2024.2)\n",
            "Requirement already satisfied: annotated-types>=0.6.0 in /usr/local/lib/python3.10/dist-packages (from pydantic>=2.0->gradio) (0.7.0)\n",
            "Requirement already satisfied: pydantic-core==2.23.4 in /usr/local/lib/python3.10/dist-packages (from pydantic>=2.0->gradio) (2.23.4)\n",
            "Requirement already satisfied: click>=8.0.0 in /usr/local/lib/python3.10/dist-packages (from typer<1.0,>=0.12->gradio) (8.1.7)\n",
            "Requirement already satisfied: shellingham>=1.3.0 in /usr/local/lib/python3.10/dist-packages (from typer<1.0,>=0.12->gradio) (1.5.4)\n",
            "Requirement already satisfied: rich>=10.11.0 in /usr/local/lib/python3.10/dist-packages (from typer<1.0,>=0.12->gradio) (13.9.3)\n",
            "Requirement already satisfied: six>=1.5 in /usr/local/lib/python3.10/dist-packages (from python-dateutil>=2.8.2->pandas<3.0,>=1.0->gradio) (1.16.0)\n",
            "Requirement already satisfied: markdown-it-py>=2.2.0 in /usr/local/lib/python3.10/dist-packages (from rich>=10.11.0->typer<1.0,>=0.12->gradio) (3.0.0)\n",
            "Requirement already satisfied: pygments<3.0.0,>=2.13.0 in /usr/local/lib/python3.10/dist-packages (from rich>=10.11.0->typer<1.0,>=0.12->gradio) (2.18.0)\n",
            "Requirement already satisfied: charset-normalizer<4,>=2 in /usr/local/lib/python3.10/dist-packages (from requests->huggingface-hub>=0.25.1->gradio) (3.4.0)\n",
            "Requirement already satisfied: urllib3<3,>=1.21.1 in /usr/local/lib/python3.10/dist-packages (from requests->huggingface-hub>=0.25.1->gradio) (2.2.3)\n",
            "Requirement already satisfied: mdurl~=0.1 in /usr/local/lib/python3.10/dist-packages (from markdown-it-py>=2.2.0->rich>=10.11.0->typer<1.0,>=0.12->gradio) (0.1.2)\n",
            "Downloading gradio-5.5.0-py3-none-any.whl (56.7 MB)\n",
            "\u001b[2K   \u001b[90m━━━━━━━━━━━━━━━━━━━━━━━━━━━━━━━━━━━━━━━━\u001b[0m \u001b[32m56.7/56.7 MB\u001b[0m \u001b[31m14.1 MB/s\u001b[0m eta \u001b[36m0:00:00\u001b[0m\n",
            "\u001b[?25hDownloading gradio_client-1.4.2-py3-none-any.whl (319 kB)\n",
            "\u001b[2K   \u001b[90m━━━━━━━━━━━━━━━━━━━━━━━━━━━━━━━━━━━━━━━━\u001b[0m \u001b[32m319.8/319.8 kB\u001b[0m \u001b[31m31.0 MB/s\u001b[0m eta \u001b[36m0:00:00\u001b[0m\n",
            "\u001b[?25hDownloading python_multipart-0.0.12-py3-none-any.whl (23 kB)\n",
            "Downloading tomlkit-0.12.0-py3-none-any.whl (37 kB)\n",
            "Downloading aiofiles-23.2.1-py3-none-any.whl (15 kB)\n",
            "Downloading fastapi-0.115.4-py3-none-any.whl (94 kB)\n",
            "\u001b[2K   \u001b[90m━━━━━━━━━━━━━━━━━━━━━━━━━━━━━━━━━━━━━━━━\u001b[0m \u001b[32m94.7/94.7 kB\u001b[0m \u001b[31m9.7 MB/s\u001b[0m eta \u001b[36m0:00:00\u001b[0m\n",
            "\u001b[?25hDownloading huggingface_hub-0.26.2-py3-none-any.whl (447 kB)\n",
            "\u001b[2K   \u001b[90m━━━━━━━━━━━━━━━━━━━━━━━━━━━━━━━━━━━━━━━━\u001b[0m \u001b[32m447.5/447.5 kB\u001b[0m \u001b[31m38.7 MB/s\u001b[0m eta \u001b[36m0:00:00\u001b[0m\n",
            "\u001b[?25hDownloading MarkupSafe-2.1.5-cp310-cp310-manylinux_2_17_x86_64.manylinux2014_x86_64.whl (25 kB)\n",
            "Downloading ruff-0.7.3-py3-none-manylinux_2_17_x86_64.manylinux2014_x86_64.whl (11.0 MB)\n",
            "\u001b[2K   \u001b[90m━━━━━━━━━━━━━━━━━━━━━━━━━━━━━━━━━━━━━━━━\u001b[0m \u001b[32m11.0/11.0 MB\u001b[0m \u001b[31m110.4 MB/s\u001b[0m eta \u001b[36m0:00:00\u001b[0m\n",
            "\u001b[?25hDownloading safehttpx-0.1.1-py3-none-any.whl (8.4 kB)\n",
            "Downloading semantic_version-2.10.0-py2.py3-none-any.whl (15 kB)\n",
            "Downloading starlette-0.41.2-py3-none-any.whl (73 kB)\n",
            "\u001b[2K   \u001b[90m━━━━━━━━━━━━━━━━━━━━━━━━━━━━━━━━━━━━━━━━\u001b[0m \u001b[32m73.3/73.3 kB\u001b[0m \u001b[31m8.4 MB/s\u001b[0m eta \u001b[36m0:00:00\u001b[0m\n",
            "\u001b[?25hDownloading uvicorn-0.32.0-py3-none-any.whl (63 kB)\n",
            "\u001b[2K   \u001b[90m━━━━━━━━━━━━━━━━━━━━━━━━━━━━━━━━━━━━━━━━\u001b[0m \u001b[32m63.7/63.7 kB\u001b[0m \u001b[31m6.7 MB/s\u001b[0m eta \u001b[36m0:00:00\u001b[0m\n",
            "\u001b[?25hDownloading ffmpy-0.4.0-py3-none-any.whl (5.8 kB)\n",
            "Downloading pydub-0.25.1-py2.py3-none-any.whl (32 kB)\n",
            "Downloading websockets-12.0-cp310-cp310-manylinux_2_5_x86_64.manylinux1_x86_64.manylinux_2_17_x86_64.manylinux2014_x86_64.whl (130 kB)\n",
            "\u001b[2K   \u001b[90m━━━━━━━━━━━━━━━━━━━━━━━━━━━━━━━━━━━━━━━━\u001b[0m \u001b[32m130.2/130.2 kB\u001b[0m \u001b[31m14.8 MB/s\u001b[0m eta \u001b[36m0:00:00\u001b[0m\n",
            "\u001b[?25hInstalling collected packages: pydub, websockets, uvicorn, tomlkit, semantic-version, ruff, python-multipart, markupsafe, ffmpy, aiofiles, starlette, huggingface-hub, safehttpx, gradio-client, fastapi, gradio\n",
            "  Attempting uninstall: markupsafe\n",
            "    Found existing installation: MarkupSafe 3.0.2\n",
            "    Uninstalling MarkupSafe-3.0.2:\n",
            "      Successfully uninstalled MarkupSafe-3.0.2\n",
            "  Attempting uninstall: huggingface-hub\n",
            "    Found existing installation: huggingface-hub 0.24.7\n",
            "    Uninstalling huggingface-hub-0.24.7:\n",
            "      Successfully uninstalled huggingface-hub-0.24.7\n",
            "Successfully installed aiofiles-23.2.1 fastapi-0.115.4 ffmpy-0.4.0 gradio-5.5.0 gradio-client-1.4.2 huggingface-hub-0.26.2 markupsafe-2.1.5 pydub-0.25.1 python-multipart-0.0.12 ruff-0.7.3 safehttpx-0.1.1 semantic-version-2.10.0 starlette-0.41.2 tomlkit-0.12.0 uvicorn-0.32.0 websockets-12.0\n",
            "Running Gradio in a Colab notebook requires sharing enabled. Automatically setting `share=True` (you can turn this off by setting `share=False` in `launch()` explicitly).\n",
            "\n",
            "Colab notebook detected. To show errors in colab notebook, set debug=True in launch()\n",
            "* Running on public URL: https://abecd18927a60b1745.gradio.live\n",
            "\n",
            "This share link expires in 72 hours. For free permanent hosting and GPU upgrades, run `gradio deploy` from the terminal in the working directory to deploy to Hugging Face Spaces (https://huggingface.co/spaces)\n"
          ]
        },
        {
          "output_type": "display_data",
          "data": {
            "text/plain": [
              "<IPython.core.display.HTML object>"
            ],
            "text/html": [
              "<div><iframe src=\"https://abecd18927a60b1745.gradio.live\" width=\"100%\" height=\"500\" allow=\"autoplay; camera; microphone; clipboard-read; clipboard-write;\" frameborder=\"0\" allowfullscreen></iframe></div>"
            ]
          },
          "metadata": {}
        },
        {
          "output_type": "execute_result",
          "data": {
            "text/plain": []
          },
          "metadata": {},
          "execution_count": 12
        }
      ]
    },
    {
      "cell_type": "markdown",
      "source": [
        "##Countdown Question"
      ],
      "metadata": {
        "id": "vmPAvVMj7Kk_"
      }
    },
    {
      "cell_type": "code",
      "source": [
        "import gradio as gr\n",
        "from datetime import datetime\n",
        "\n",
        "def countdown(target_date):\n",
        "    try:\n",
        "        # Parse the user input date\n",
        "        date_format = \"%Y-%m-%d\"\n",
        "        future_date = datetime.strptime(target_date, date_format)\n",
        "\n",
        "        # Get the current time\n",
        "        now = datetime.now()\n",
        "\n",
        "        # Calculate the difference between the future date and the current time\n",
        "        countdown = future_date - now\n",
        "\n",
        "        # Generate the countdown message\n",
        "        if countdown.days >= 0:\n",
        "            return f\"Time until {target_date}: \\n {countdown.days} days, {countdown.seconds//3600} hours, {(countdown.seconds//60)%60} minutes.\"\n",
        "        else:\n",
        "            return \"입력하신 날짜는 이미 지났습니다.\"\n",
        "    except ValueError:\n",
        "        return \"Please enter the date in YYYY-MM-DD format.\"\n",
        "\n",
        "# Create the Gradio interface\n",
        "interface = gr.Interface(\n",
        "    fn=countdown,\n",
        "    inputs=gr.Text(label=\"미래 날짜를 입력하세요 (예: 2024-12-25)\"),\n",
        "    outputs=\"text\",\n",
        "    title=\"날짜 카운트다운\",\n",
        "    description=\"지정된 날짜까지 남은 일수, 시간, 분을 확인하려면 날짜를 입력하세요.\"\n",
        ")\n",
        "\n",
        "interface.launch()\n",
        "\n"
      ],
      "metadata": {
        "colab": {
          "base_uri": "https://localhost:8080/",
          "height": 645
        },
        "id": "9UwiFn8b7Mv0",
        "outputId": "18e40102-7964-48aa-d5b0-b76a6a1f44bc"
      },
      "execution_count": null,
      "outputs": [
        {
          "output_type": "stream",
          "name": "stdout",
          "text": [
            "Running Gradio in a Colab notebook requires sharing enabled. Automatically setting `share=True` (you can turn this off by setting `share=False` in `launch()` explicitly).\n",
            "\n",
            "Colab notebook detected. To show errors in colab notebook, set debug=True in launch()\n",
            "* Running on public URL: https://df7956bc572a733489.gradio.live\n",
            "\n",
            "This share link expires in 72 hours. For free permanent hosting and GPU upgrades, run `gradio deploy` from the terminal in the working directory to deploy to Hugging Face Spaces (https://huggingface.co/spaces)\n"
          ]
        },
        {
          "output_type": "display_data",
          "data": {
            "text/plain": [
              "<IPython.core.display.HTML object>"
            ],
            "text/html": [
              "<div><iframe src=\"https://df7956bc572a733489.gradio.live\" width=\"100%\" height=\"500\" allow=\"autoplay; camera; microphone; clipboard-read; clipboard-write;\" frameborder=\"0\" allowfullscreen></iframe></div>"
            ]
          },
          "metadata": {}
        },
        {
          "output_type": "execute_result",
          "data": {
            "text/plain": []
          },
          "metadata": {},
          "execution_count": 25
        }
      ]
    },
    {
      "cell_type": "code",
      "source": [],
      "metadata": {
        "id": "RRenzaCnFHtm"
      },
      "execution_count": null,
      "outputs": []
    }
  ]
}